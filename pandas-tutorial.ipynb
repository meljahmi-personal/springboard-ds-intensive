{
 "cells": [
  {
   "cell_type": "code",
   "execution_count": 2,
   "metadata": {
    "collapsed": true
   },
   "outputs": [],
   "source": [
    "import pandas as pd\n",
    "import numpy as np\n",
    "import matplotlib.pyplot as plt\n"
   ]
  },
  {
   "cell_type": "code",
   "execution_count": 3,
   "metadata": {
    "collapsed": true
   },
   "outputs": [],
   "source": [
    "dates = pd.date_range('20130101', periods=6)"
   ]
  },
  {
   "cell_type": "code",
   "execution_count": 4,
   "metadata": {
    "collapsed": false
   },
   "outputs": [
    {
     "data": {
      "text/plain": [
       "DatetimeIndex(['2013-01-01', '2013-01-02', '2013-01-03', '2013-01-04',\n",
       "               '2013-01-05', '2013-01-06'],\n",
       "              dtype='datetime64[ns]', freq='D')"
      ]
     },
     "execution_count": 4,
     "metadata": {},
     "output_type": "execute_result"
    }
   ],
   "source": [
    "dates"
   ]
  },
  {
   "cell_type": "code",
   "execution_count": 5,
   "metadata": {
    "collapsed": false
   },
   "outputs": [
    {
     "name": "stdout",
     "output_type": "stream",
     "text": [
      "DatetimeIndex(['2013-01-01', '2013-01-02', '2013-01-03', '2013-01-04',\n",
      "               '2013-01-05', '2013-01-06'],\n",
      "              dtype='datetime64[ns]', freq='D')\n"
     ]
    }
   ],
   "source": [
    "print(dates)"
   ]
  },
  {
   "cell_type": "code",
   "execution_count": 6,
   "metadata": {
    "collapsed": false
   },
   "outputs": [
    {
     "data": {
      "text/plain": [
       "Timestamp('2013-01-01 00:00:00', offset='D')"
      ]
     },
     "execution_count": 6,
     "metadata": {},
     "output_type": "execute_result"
    }
   ],
   "source": [
    "dates[0]"
   ]
  },
  {
   "cell_type": "code",
   "execution_count": 7,
   "metadata": {
    "collapsed": false
   },
   "outputs": [
    {
     "data": {
      "text/plain": [
       "Timestamp('2013-01-02 00:00:00', offset='D')"
      ]
     },
     "execution_count": 7,
     "metadata": {},
     "output_type": "execute_result"
    }
   ],
   "source": [
    "dates[1]"
   ]
  },
  {
   "cell_type": "code",
   "execution_count": 8,
   "metadata": {
    "collapsed": true
   },
   "outputs": [],
   "source": [
    "df = pd.DataFrame(np.random.randn(6,4), index=dates, columns=list('ABCD'))"
   ]
  },
  {
   "cell_type": "code",
   "execution_count": 9,
   "metadata": {
    "collapsed": false
   },
   "outputs": [
    {
     "data": {
      "text/html": [
       "<div>\n",
       "<table border=\"1\" class=\"dataframe\">\n",
       "  <thead>\n",
       "    <tr style=\"text-align: right;\">\n",
       "      <th></th>\n",
       "      <th>A</th>\n",
       "      <th>B</th>\n",
       "      <th>C</th>\n",
       "      <th>D</th>\n",
       "    </tr>\n",
       "  </thead>\n",
       "  <tbody>\n",
       "    <tr>\n",
       "      <th>2013-01-01</th>\n",
       "      <td>-1.353283</td>\n",
       "      <td>-0.726190</td>\n",
       "      <td>-1.172609</td>\n",
       "      <td>0.799353</td>\n",
       "    </tr>\n",
       "    <tr>\n",
       "      <th>2013-01-02</th>\n",
       "      <td>1.990191</td>\n",
       "      <td>0.586104</td>\n",
       "      <td>-0.167906</td>\n",
       "      <td>0.821194</td>\n",
       "    </tr>\n",
       "    <tr>\n",
       "      <th>2013-01-03</th>\n",
       "      <td>-1.866772</td>\n",
       "      <td>1.588545</td>\n",
       "      <td>-0.608244</td>\n",
       "      <td>0.579766</td>\n",
       "    </tr>\n",
       "    <tr>\n",
       "      <th>2013-01-04</th>\n",
       "      <td>-0.946440</td>\n",
       "      <td>0.344055</td>\n",
       "      <td>-0.399087</td>\n",
       "      <td>0.589706</td>\n",
       "    </tr>\n",
       "    <tr>\n",
       "      <th>2013-01-05</th>\n",
       "      <td>0.015823</td>\n",
       "      <td>0.890552</td>\n",
       "      <td>2.645978</td>\n",
       "      <td>-0.168492</td>\n",
       "    </tr>\n",
       "    <tr>\n",
       "      <th>2013-01-06</th>\n",
       "      <td>0.210653</td>\n",
       "      <td>0.266577</td>\n",
       "      <td>0.071821</td>\n",
       "      <td>0.031600</td>\n",
       "    </tr>\n",
       "  </tbody>\n",
       "</table>\n",
       "</div>"
      ],
      "text/plain": [
       "                   A         B         C         D\n",
       "2013-01-01 -1.353283 -0.726190 -1.172609  0.799353\n",
       "2013-01-02  1.990191  0.586104 -0.167906  0.821194\n",
       "2013-01-03 -1.866772  1.588545 -0.608244  0.579766\n",
       "2013-01-04 -0.946440  0.344055 -0.399087  0.589706\n",
       "2013-01-05  0.015823  0.890552  2.645978 -0.168492\n",
       "2013-01-06  0.210653  0.266577  0.071821  0.031600"
      ]
     },
     "execution_count": 9,
     "metadata": {},
     "output_type": "execute_result"
    }
   ],
   "source": [
    "df"
   ]
  },
  {
   "cell_type": "code",
   "execution_count": 10,
   "metadata": {
    "collapsed": false
   },
   "outputs": [
    {
     "data": {
      "text/plain": [
       "DatetimeIndex(['2013-01-01', '2013-01-02', '2013-01-03', '2013-01-04',\n",
       "               '2013-01-05', '2013-01-06'],\n",
       "              dtype='datetime64[ns]', freq='D')"
      ]
     },
     "execution_count": 10,
     "metadata": {},
     "output_type": "execute_result"
    }
   ],
   "source": [
    "df.index"
   ]
  },
  {
   "cell_type": "code",
   "execution_count": 11,
   "metadata": {
    "collapsed": false
   },
   "outputs": [
    {
     "data": {
      "text/plain": [
       "Index(['A', 'B', 'C', 'D'], dtype='object')"
      ]
     },
     "execution_count": 11,
     "metadata": {},
     "output_type": "execute_result"
    }
   ],
   "source": [
    "df.columns"
   ]
  },
  {
   "cell_type": "code",
   "execution_count": 12,
   "metadata": {
    "collapsed": false
   },
   "outputs": [
    {
     "data": {
      "text/html": [
       "<div>\n",
       "<table border=\"1\" class=\"dataframe\">\n",
       "  <thead>\n",
       "    <tr style=\"text-align: right;\">\n",
       "      <th></th>\n",
       "      <th>A</th>\n",
       "      <th>B</th>\n",
       "      <th>C</th>\n",
       "      <th>D</th>\n",
       "    </tr>\n",
       "  </thead>\n",
       "  <tbody>\n",
       "    <tr>\n",
       "      <th>count</th>\n",
       "      <td>6.000000</td>\n",
       "      <td>6.000000</td>\n",
       "      <td>6.000000</td>\n",
       "      <td>6.000000</td>\n",
       "    </tr>\n",
       "    <tr>\n",
       "      <th>mean</th>\n",
       "      <td>-0.324971</td>\n",
       "      <td>0.491607</td>\n",
       "      <td>0.061659</td>\n",
       "      <td>0.442188</td>\n",
       "    </tr>\n",
       "    <tr>\n",
       "      <th>std</th>\n",
       "      <td>1.384472</td>\n",
       "      <td>0.765088</td>\n",
       "      <td>1.335364</td>\n",
       "      <td>0.413138</td>\n",
       "    </tr>\n",
       "    <tr>\n",
       "      <th>min</th>\n",
       "      <td>-1.866772</td>\n",
       "      <td>-0.726190</td>\n",
       "      <td>-1.172609</td>\n",
       "      <td>-0.168492</td>\n",
       "    </tr>\n",
       "    <tr>\n",
       "      <th>25%</th>\n",
       "      <td>-1.251572</td>\n",
       "      <td>0.285946</td>\n",
       "      <td>-0.555955</td>\n",
       "      <td>0.168641</td>\n",
       "    </tr>\n",
       "    <tr>\n",
       "      <th>50%</th>\n",
       "      <td>-0.465308</td>\n",
       "      <td>0.465079</td>\n",
       "      <td>-0.283496</td>\n",
       "      <td>0.584736</td>\n",
       "    </tr>\n",
       "    <tr>\n",
       "      <th>75%</th>\n",
       "      <td>0.161946</td>\n",
       "      <td>0.814440</td>\n",
       "      <td>0.011889</td>\n",
       "      <td>0.746941</td>\n",
       "    </tr>\n",
       "    <tr>\n",
       "      <th>max</th>\n",
       "      <td>1.990191</td>\n",
       "      <td>1.588545</td>\n",
       "      <td>2.645978</td>\n",
       "      <td>0.821194</td>\n",
       "    </tr>\n",
       "  </tbody>\n",
       "</table>\n",
       "</div>"
      ],
      "text/plain": [
       "              A         B         C         D\n",
       "count  6.000000  6.000000  6.000000  6.000000\n",
       "mean  -0.324971  0.491607  0.061659  0.442188\n",
       "std    1.384472  0.765088  1.335364  0.413138\n",
       "min   -1.866772 -0.726190 -1.172609 -0.168492\n",
       "25%   -1.251572  0.285946 -0.555955  0.168641\n",
       "50%   -0.465308  0.465079 -0.283496  0.584736\n",
       "75%    0.161946  0.814440  0.011889  0.746941\n",
       "max    1.990191  1.588545  2.645978  0.821194"
      ]
     },
     "execution_count": 12,
     "metadata": {},
     "output_type": "execute_result"
    }
   ],
   "source": [
    "df.describe()"
   ]
  },
  {
   "cell_type": "code",
   "execution_count": 13,
   "metadata": {
    "collapsed": false
   },
   "outputs": [
    {
     "data": {
      "text/html": [
       "<div>\n",
       "<table border=\"1\" class=\"dataframe\">\n",
       "  <thead>\n",
       "    <tr style=\"text-align: right;\">\n",
       "      <th></th>\n",
       "      <th>2013-01-01 00:00:00</th>\n",
       "      <th>2013-01-02 00:00:00</th>\n",
       "      <th>2013-01-03 00:00:00</th>\n",
       "      <th>2013-01-04 00:00:00</th>\n",
       "      <th>2013-01-05 00:00:00</th>\n",
       "      <th>2013-01-06 00:00:00</th>\n",
       "    </tr>\n",
       "  </thead>\n",
       "  <tbody>\n",
       "    <tr>\n",
       "      <th>A</th>\n",
       "      <td>-1.353283</td>\n",
       "      <td>1.990191</td>\n",
       "      <td>-1.866772</td>\n",
       "      <td>-0.946440</td>\n",
       "      <td>0.015823</td>\n",
       "      <td>0.210653</td>\n",
       "    </tr>\n",
       "    <tr>\n",
       "      <th>B</th>\n",
       "      <td>-0.726190</td>\n",
       "      <td>0.586104</td>\n",
       "      <td>1.588545</td>\n",
       "      <td>0.344055</td>\n",
       "      <td>0.890552</td>\n",
       "      <td>0.266577</td>\n",
       "    </tr>\n",
       "    <tr>\n",
       "      <th>C</th>\n",
       "      <td>-1.172609</td>\n",
       "      <td>-0.167906</td>\n",
       "      <td>-0.608244</td>\n",
       "      <td>-0.399087</td>\n",
       "      <td>2.645978</td>\n",
       "      <td>0.071821</td>\n",
       "    </tr>\n",
       "    <tr>\n",
       "      <th>D</th>\n",
       "      <td>0.799353</td>\n",
       "      <td>0.821194</td>\n",
       "      <td>0.579766</td>\n",
       "      <td>0.589706</td>\n",
       "      <td>-0.168492</td>\n",
       "      <td>0.031600</td>\n",
       "    </tr>\n",
       "  </tbody>\n",
       "</table>\n",
       "</div>"
      ],
      "text/plain": [
       "   2013-01-01  2013-01-02  2013-01-03  2013-01-04  2013-01-05  2013-01-06\n",
       "A   -1.353283    1.990191   -1.866772   -0.946440    0.015823    0.210653\n",
       "B   -0.726190    0.586104    1.588545    0.344055    0.890552    0.266577\n",
       "C   -1.172609   -0.167906   -0.608244   -0.399087    2.645978    0.071821\n",
       "D    0.799353    0.821194    0.579766    0.589706   -0.168492    0.031600"
      ]
     },
     "execution_count": 13,
     "metadata": {},
     "output_type": "execute_result"
    }
   ],
   "source": [
    "df.T"
   ]
  },
  {
   "cell_type": "code",
   "execution_count": 14,
   "metadata": {
    "collapsed": false
   },
   "outputs": [
    {
     "data": {
      "text/html": [
       "<div>\n",
       "<table border=\"1\" class=\"dataframe\">\n",
       "  <thead>\n",
       "    <tr style=\"text-align: right;\">\n",
       "      <th></th>\n",
       "      <th>A</th>\n",
       "      <th>B</th>\n",
       "      <th>C</th>\n",
       "      <th>D</th>\n",
       "    </tr>\n",
       "  </thead>\n",
       "  <tbody>\n",
       "    <tr>\n",
       "      <th>2013-01-01</th>\n",
       "      <td>-1.353283</td>\n",
       "      <td>-0.726190</td>\n",
       "      <td>-1.172609</td>\n",
       "      <td>0.799353</td>\n",
       "    </tr>\n",
       "    <tr>\n",
       "      <th>2013-01-02</th>\n",
       "      <td>1.990191</td>\n",
       "      <td>0.586104</td>\n",
       "      <td>-0.167906</td>\n",
       "      <td>0.821194</td>\n",
       "    </tr>\n",
       "    <tr>\n",
       "      <th>2013-01-03</th>\n",
       "      <td>-1.866772</td>\n",
       "      <td>1.588545</td>\n",
       "      <td>-0.608244</td>\n",
       "      <td>0.579766</td>\n",
       "    </tr>\n",
       "    <tr>\n",
       "      <th>2013-01-04</th>\n",
       "      <td>-0.946440</td>\n",
       "      <td>0.344055</td>\n",
       "      <td>-0.399087</td>\n",
       "      <td>0.589706</td>\n",
       "    </tr>\n",
       "    <tr>\n",
       "      <th>2013-01-05</th>\n",
       "      <td>0.015823</td>\n",
       "      <td>0.890552</td>\n",
       "      <td>2.645978</td>\n",
       "      <td>-0.168492</td>\n",
       "    </tr>\n",
       "  </tbody>\n",
       "</table>\n",
       "</div>"
      ],
      "text/plain": [
       "                   A         B         C         D\n",
       "2013-01-01 -1.353283 -0.726190 -1.172609  0.799353\n",
       "2013-01-02  1.990191  0.586104 -0.167906  0.821194\n",
       "2013-01-03 -1.866772  1.588545 -0.608244  0.579766\n",
       "2013-01-04 -0.946440  0.344055 -0.399087  0.589706\n",
       "2013-01-05  0.015823  0.890552  2.645978 -0.168492"
      ]
     },
     "execution_count": 14,
     "metadata": {},
     "output_type": "execute_result"
    }
   ],
   "source": [
    "df.head()"
   ]
  },
  {
   "cell_type": "code",
   "execution_count": 15,
   "metadata": {
    "collapsed": false
   },
   "outputs": [
    {
     "data": {
      "text/html": [
       "<div>\n",
       "<table border=\"1\" class=\"dataframe\">\n",
       "  <thead>\n",
       "    <tr style=\"text-align: right;\">\n",
       "      <th></th>\n",
       "      <th>A</th>\n",
       "      <th>B</th>\n",
       "      <th>C</th>\n",
       "      <th>D</th>\n",
       "    </tr>\n",
       "  </thead>\n",
       "  <tbody>\n",
       "    <tr>\n",
       "      <th>2013-01-04</th>\n",
       "      <td>-0.946440</td>\n",
       "      <td>0.344055</td>\n",
       "      <td>-0.399087</td>\n",
       "      <td>0.589706</td>\n",
       "    </tr>\n",
       "    <tr>\n",
       "      <th>2013-01-05</th>\n",
       "      <td>0.015823</td>\n",
       "      <td>0.890552</td>\n",
       "      <td>2.645978</td>\n",
       "      <td>-0.168492</td>\n",
       "    </tr>\n",
       "    <tr>\n",
       "      <th>2013-01-06</th>\n",
       "      <td>0.210653</td>\n",
       "      <td>0.266577</td>\n",
       "      <td>0.071821</td>\n",
       "      <td>0.031600</td>\n",
       "    </tr>\n",
       "  </tbody>\n",
       "</table>\n",
       "</div>"
      ],
      "text/plain": [
       "                   A         B         C         D\n",
       "2013-01-04 -0.946440  0.344055 -0.399087  0.589706\n",
       "2013-01-05  0.015823  0.890552  2.645978 -0.168492\n",
       "2013-01-06  0.210653  0.266577  0.071821  0.031600"
      ]
     },
     "execution_count": 15,
     "metadata": {},
     "output_type": "execute_result"
    }
   ],
   "source": [
    "df.tail(3)"
   ]
  },
  {
   "cell_type": "code",
   "execution_count": 16,
   "metadata": {
    "collapsed": false
   },
   "outputs": [
    {
     "data": {
      "text/html": [
       "<div>\n",
       "<table border=\"1\" class=\"dataframe\">\n",
       "  <thead>\n",
       "    <tr style=\"text-align: right;\">\n",
       "      <th></th>\n",
       "      <th>A</th>\n",
       "      <th>B</th>\n",
       "      <th>C</th>\n",
       "      <th>D</th>\n",
       "    </tr>\n",
       "  </thead>\n",
       "  <tbody>\n",
       "    <tr>\n",
       "      <th>count</th>\n",
       "      <td>6.000000</td>\n",
       "      <td>6.000000</td>\n",
       "      <td>6.000000</td>\n",
       "      <td>6.000000</td>\n",
       "    </tr>\n",
       "    <tr>\n",
       "      <th>mean</th>\n",
       "      <td>-0.324971</td>\n",
       "      <td>0.491607</td>\n",
       "      <td>0.061659</td>\n",
       "      <td>0.442188</td>\n",
       "    </tr>\n",
       "    <tr>\n",
       "      <th>std</th>\n",
       "      <td>1.384472</td>\n",
       "      <td>0.765088</td>\n",
       "      <td>1.335364</td>\n",
       "      <td>0.413138</td>\n",
       "    </tr>\n",
       "    <tr>\n",
       "      <th>min</th>\n",
       "      <td>-1.866772</td>\n",
       "      <td>-0.726190</td>\n",
       "      <td>-1.172609</td>\n",
       "      <td>-0.168492</td>\n",
       "    </tr>\n",
       "    <tr>\n",
       "      <th>25%</th>\n",
       "      <td>-1.251572</td>\n",
       "      <td>0.285946</td>\n",
       "      <td>-0.555955</td>\n",
       "      <td>0.168641</td>\n",
       "    </tr>\n",
       "    <tr>\n",
       "      <th>50%</th>\n",
       "      <td>-0.465308</td>\n",
       "      <td>0.465079</td>\n",
       "      <td>-0.283496</td>\n",
       "      <td>0.584736</td>\n",
       "    </tr>\n",
       "    <tr>\n",
       "      <th>75%</th>\n",
       "      <td>0.161946</td>\n",
       "      <td>0.814440</td>\n",
       "      <td>0.011889</td>\n",
       "      <td>0.746941</td>\n",
       "    </tr>\n",
       "    <tr>\n",
       "      <th>max</th>\n",
       "      <td>1.990191</td>\n",
       "      <td>1.588545</td>\n",
       "      <td>2.645978</td>\n",
       "      <td>0.821194</td>\n",
       "    </tr>\n",
       "  </tbody>\n",
       "</table>\n",
       "</div>"
      ],
      "text/plain": [
       "              A         B         C         D\n",
       "count  6.000000  6.000000  6.000000  6.000000\n",
       "mean  -0.324971  0.491607  0.061659  0.442188\n",
       "std    1.384472  0.765088  1.335364  0.413138\n",
       "min   -1.866772 -0.726190 -1.172609 -0.168492\n",
       "25%   -1.251572  0.285946 -0.555955  0.168641\n",
       "50%   -0.465308  0.465079 -0.283496  0.584736\n",
       "75%    0.161946  0.814440  0.011889  0.746941\n",
       "max    1.990191  1.588545  2.645978  0.821194"
      ]
     },
     "execution_count": 16,
     "metadata": {},
     "output_type": "execute_result"
    }
   ],
   "source": [
    "df.describe()\n"
   ]
  },
  {
   "cell_type": "code",
   "execution_count": 17,
   "metadata": {
    "collapsed": false
   },
   "outputs": [
    {
     "data": {
      "text/html": [
       "<div>\n",
       "<table border=\"1\" class=\"dataframe\">\n",
       "  <thead>\n",
       "    <tr style=\"text-align: right;\">\n",
       "      <th></th>\n",
       "      <th>2013-01-01 00:00:00</th>\n",
       "      <th>2013-01-02 00:00:00</th>\n",
       "      <th>2013-01-03 00:00:00</th>\n",
       "      <th>2013-01-04 00:00:00</th>\n",
       "      <th>2013-01-05 00:00:00</th>\n",
       "      <th>2013-01-06 00:00:00</th>\n",
       "    </tr>\n",
       "  </thead>\n",
       "  <tbody>\n",
       "    <tr>\n",
       "      <th>A</th>\n",
       "      <td>-1.353283</td>\n",
       "      <td>1.990191</td>\n",
       "      <td>-1.866772</td>\n",
       "      <td>-0.946440</td>\n",
       "      <td>0.015823</td>\n",
       "      <td>0.210653</td>\n",
       "    </tr>\n",
       "    <tr>\n",
       "      <th>B</th>\n",
       "      <td>-0.726190</td>\n",
       "      <td>0.586104</td>\n",
       "      <td>1.588545</td>\n",
       "      <td>0.344055</td>\n",
       "      <td>0.890552</td>\n",
       "      <td>0.266577</td>\n",
       "    </tr>\n",
       "    <tr>\n",
       "      <th>C</th>\n",
       "      <td>-1.172609</td>\n",
       "      <td>-0.167906</td>\n",
       "      <td>-0.608244</td>\n",
       "      <td>-0.399087</td>\n",
       "      <td>2.645978</td>\n",
       "      <td>0.071821</td>\n",
       "    </tr>\n",
       "    <tr>\n",
       "      <th>D</th>\n",
       "      <td>0.799353</td>\n",
       "      <td>0.821194</td>\n",
       "      <td>0.579766</td>\n",
       "      <td>0.589706</td>\n",
       "      <td>-0.168492</td>\n",
       "      <td>0.031600</td>\n",
       "    </tr>\n",
       "  </tbody>\n",
       "</table>\n",
       "</div>"
      ],
      "text/plain": [
       "   2013-01-01  2013-01-02  2013-01-03  2013-01-04  2013-01-05  2013-01-06\n",
       "A   -1.353283    1.990191   -1.866772   -0.946440    0.015823    0.210653\n",
       "B   -0.726190    0.586104    1.588545    0.344055    0.890552    0.266577\n",
       "C   -1.172609   -0.167906   -0.608244   -0.399087    2.645978    0.071821\n",
       "D    0.799353    0.821194    0.579766    0.589706   -0.168492    0.031600"
      ]
     },
     "execution_count": 17,
     "metadata": {},
     "output_type": "execute_result"
    }
   ],
   "source": [
    "df.T"
   ]
  },
  {
   "cell_type": "code",
   "execution_count": 18,
   "metadata": {
    "collapsed": false
   },
   "outputs": [
    {
     "data": {
      "text/html": [
       "<div>\n",
       "<table border=\"1\" class=\"dataframe\">\n",
       "  <thead>\n",
       "    <tr style=\"text-align: right;\">\n",
       "      <th></th>\n",
       "      <th>D</th>\n",
       "      <th>C</th>\n",
       "      <th>B</th>\n",
       "      <th>A</th>\n",
       "    </tr>\n",
       "  </thead>\n",
       "  <tbody>\n",
       "    <tr>\n",
       "      <th>2013-01-01</th>\n",
       "      <td>0.799353</td>\n",
       "      <td>-1.172609</td>\n",
       "      <td>-0.726190</td>\n",
       "      <td>-1.353283</td>\n",
       "    </tr>\n",
       "    <tr>\n",
       "      <th>2013-01-02</th>\n",
       "      <td>0.821194</td>\n",
       "      <td>-0.167906</td>\n",
       "      <td>0.586104</td>\n",
       "      <td>1.990191</td>\n",
       "    </tr>\n",
       "    <tr>\n",
       "      <th>2013-01-03</th>\n",
       "      <td>0.579766</td>\n",
       "      <td>-0.608244</td>\n",
       "      <td>1.588545</td>\n",
       "      <td>-1.866772</td>\n",
       "    </tr>\n",
       "    <tr>\n",
       "      <th>2013-01-04</th>\n",
       "      <td>0.589706</td>\n",
       "      <td>-0.399087</td>\n",
       "      <td>0.344055</td>\n",
       "      <td>-0.946440</td>\n",
       "    </tr>\n",
       "    <tr>\n",
       "      <th>2013-01-05</th>\n",
       "      <td>-0.168492</td>\n",
       "      <td>2.645978</td>\n",
       "      <td>0.890552</td>\n",
       "      <td>0.015823</td>\n",
       "    </tr>\n",
       "    <tr>\n",
       "      <th>2013-01-06</th>\n",
       "      <td>0.031600</td>\n",
       "      <td>0.071821</td>\n",
       "      <td>0.266577</td>\n",
       "      <td>0.210653</td>\n",
       "    </tr>\n",
       "  </tbody>\n",
       "</table>\n",
       "</div>"
      ],
      "text/plain": [
       "                   D         C         B         A\n",
       "2013-01-01  0.799353 -1.172609 -0.726190 -1.353283\n",
       "2013-01-02  0.821194 -0.167906  0.586104  1.990191\n",
       "2013-01-03  0.579766 -0.608244  1.588545 -1.866772\n",
       "2013-01-04  0.589706 -0.399087  0.344055 -0.946440\n",
       "2013-01-05 -0.168492  2.645978  0.890552  0.015823\n",
       "2013-01-06  0.031600  0.071821  0.266577  0.210653"
      ]
     },
     "execution_count": 18,
     "metadata": {},
     "output_type": "execute_result"
    }
   ],
   "source": [
    "df.sort_index(axis=1, ascending=False)"
   ]
  },
  {
   "cell_type": "code",
   "execution_count": 24,
   "metadata": {
    "collapsed": false
   },
   "outputs": [
    {
     "data": {
      "text/html": [
       "<div>\n",
       "<table border=\"1\" class=\"dataframe\">\n",
       "  <thead>\n",
       "    <tr style=\"text-align: right;\">\n",
       "      <th></th>\n",
       "      <th>A</th>\n",
       "      <th>B</th>\n",
       "      <th>C</th>\n",
       "      <th>D</th>\n",
       "    </tr>\n",
       "  </thead>\n",
       "  <tbody>\n",
       "    <tr>\n",
       "      <th>2013-01-01</th>\n",
       "      <td>-1.353283</td>\n",
       "      <td>-0.726190</td>\n",
       "      <td>-1.172609</td>\n",
       "      <td>0.799353</td>\n",
       "    </tr>\n",
       "    <tr>\n",
       "      <th>2013-01-02</th>\n",
       "      <td>1.990191</td>\n",
       "      <td>0.586104</td>\n",
       "      <td>-0.167906</td>\n",
       "      <td>0.821194</td>\n",
       "    </tr>\n",
       "    <tr>\n",
       "      <th>2013-01-03</th>\n",
       "      <td>-1.866772</td>\n",
       "      <td>1.588545</td>\n",
       "      <td>-0.608244</td>\n",
       "      <td>0.579766</td>\n",
       "    </tr>\n",
       "    <tr>\n",
       "      <th>2013-01-04</th>\n",
       "      <td>-0.946440</td>\n",
       "      <td>0.344055</td>\n",
       "      <td>-0.399087</td>\n",
       "      <td>0.589706</td>\n",
       "    </tr>\n",
       "    <tr>\n",
       "      <th>2013-01-05</th>\n",
       "      <td>0.015823</td>\n",
       "      <td>0.890552</td>\n",
       "      <td>2.645978</td>\n",
       "      <td>-0.168492</td>\n",
       "    </tr>\n",
       "    <tr>\n",
       "      <th>2013-01-06</th>\n",
       "      <td>0.210653</td>\n",
       "      <td>0.266577</td>\n",
       "      <td>0.071821</td>\n",
       "      <td>0.031600</td>\n",
       "    </tr>\n",
       "  </tbody>\n",
       "</table>\n",
       "</div>"
      ],
      "text/plain": [
       "                   A         B         C         D\n",
       "2013-01-01 -1.353283 -0.726190 -1.172609  0.799353\n",
       "2013-01-02  1.990191  0.586104 -0.167906  0.821194\n",
       "2013-01-03 -1.866772  1.588545 -0.608244  0.579766\n",
       "2013-01-04 -0.946440  0.344055 -0.399087  0.589706\n",
       "2013-01-05  0.015823  0.890552  2.645978 -0.168492\n",
       "2013-01-06  0.210653  0.266577  0.071821  0.031600"
      ]
     },
     "execution_count": 24,
     "metadata": {},
     "output_type": "execute_result"
    }
   ],
   "source": [
    "df.sort_index(axis=1, ascending=True)"
   ]
  },
  {
   "cell_type": "code",
   "execution_count": 23,
   "metadata": {
    "collapsed": false
   },
   "outputs": [
    {
     "data": {
      "text/html": [
       "<div>\n",
       "<table border=\"1\" class=\"dataframe\">\n",
       "  <thead>\n",
       "    <tr style=\"text-align: right;\">\n",
       "      <th></th>\n",
       "      <th>A</th>\n",
       "      <th>B</th>\n",
       "      <th>C</th>\n",
       "      <th>D</th>\n",
       "    </tr>\n",
       "  </thead>\n",
       "  <tbody>\n",
       "    <tr>\n",
       "      <th>2013-01-01</th>\n",
       "      <td>-1.353283</td>\n",
       "      <td>-0.726190</td>\n",
       "      <td>-1.172609</td>\n",
       "      <td>0.799353</td>\n",
       "    </tr>\n",
       "    <tr>\n",
       "      <th>2013-01-02</th>\n",
       "      <td>1.990191</td>\n",
       "      <td>0.586104</td>\n",
       "      <td>-0.167906</td>\n",
       "      <td>0.821194</td>\n",
       "    </tr>\n",
       "    <tr>\n",
       "      <th>2013-01-03</th>\n",
       "      <td>-1.866772</td>\n",
       "      <td>1.588545</td>\n",
       "      <td>-0.608244</td>\n",
       "      <td>0.579766</td>\n",
       "    </tr>\n",
       "    <tr>\n",
       "      <th>2013-01-04</th>\n",
       "      <td>-0.946440</td>\n",
       "      <td>0.344055</td>\n",
       "      <td>-0.399087</td>\n",
       "      <td>0.589706</td>\n",
       "    </tr>\n",
       "    <tr>\n",
       "      <th>2013-01-05</th>\n",
       "      <td>0.015823</td>\n",
       "      <td>0.890552</td>\n",
       "      <td>2.645978</td>\n",
       "      <td>-0.168492</td>\n",
       "    </tr>\n",
       "    <tr>\n",
       "      <th>2013-01-06</th>\n",
       "      <td>0.210653</td>\n",
       "      <td>0.266577</td>\n",
       "      <td>0.071821</td>\n",
       "      <td>0.031600</td>\n",
       "    </tr>\n",
       "  </tbody>\n",
       "</table>\n",
       "</div>"
      ],
      "text/plain": [
       "                   A         B         C         D\n",
       "2013-01-01 -1.353283 -0.726190 -1.172609  0.799353\n",
       "2013-01-02  1.990191  0.586104 -0.167906  0.821194\n",
       "2013-01-03 -1.866772  1.588545 -0.608244  0.579766\n",
       "2013-01-04 -0.946440  0.344055 -0.399087  0.589706\n",
       "2013-01-05  0.015823  0.890552  2.645978 -0.168492\n",
       "2013-01-06  0.210653  0.266577  0.071821  0.031600"
      ]
     },
     "execution_count": 23,
     "metadata": {},
     "output_type": "execute_result"
    }
   ],
   "source": [
    "df.sort_index(axis=0, ascending=True)"
   ]
  },
  {
   "cell_type": "code",
   "execution_count": null,
   "metadata": {
    "collapsed": true
   },
   "outputs": [],
   "source": []
  }
 ],
 "metadata": {
  "kernelspec": {
   "display_name": "Python 3",
   "language": "python",
   "name": "python3"
  },
  "language_info": {
   "codemirror_mode": {
    "name": "ipython",
    "version": 3
   },
   "file_extension": ".py",
   "mimetype": "text/x-python",
   "name": "python",
   "nbconvert_exporter": "python",
   "pygments_lexer": "ipython3",
   "version": "3.5.1"
  }
 },
 "nbformat": 4,
 "nbformat_minor": 0
}
